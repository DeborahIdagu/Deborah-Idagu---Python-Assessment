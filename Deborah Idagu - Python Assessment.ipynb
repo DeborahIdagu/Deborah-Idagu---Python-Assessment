{
 "cells": [
  {
   "cell_type": "markdown",
   "id": "593b86cc",
   "metadata": {},
   "source": [
    "# 1) Print all elements of a list using for loop"
   ]
  },
  {
   "cell_type": "code",
   "execution_count": 1,
   "id": "0518a34d",
   "metadata": {},
   "outputs": [
    {
     "name": "stdout",
     "output_type": "stream",
     "text": [
      "Mum\n",
      "Dad\n",
      "Daughter\n",
      "Son\n",
      "Uncle\n",
      "Anty\n",
      "Cousin\n"
     ]
    }
   ],
   "source": [
    "myFamily = ['Mum', 'Dad', 'Daughter', 'Son', 'Uncle', 'Anty', 'Cousin']\n",
    "for relatives in myFamily:\n",
    "    print(relatives)"
   ]
  },
  {
   "cell_type": "markdown",
   "id": "890717a4",
   "metadata": {},
   "source": [
    "# 2) A company decided to give bonus of 5% to employee if his/her year of service is more than 5 years. Ask user for their salary and year of service and print the net bonus amount."
   ]
  },
  {
   "cell_type": "code",
   "execution_count": 4,
   "id": "edb13d5d",
   "metadata": {},
   "outputs": [
    {
     "name": "stdout",
     "output_type": "stream",
     "text": [
      "Enter your salary : 207000\n",
      "Enter your years of service : 7\n",
      "Your Net bonus is 10350.0\n"
     ]
    }
   ],
   "source": [
    "salary = int(input('Enter your salary : '))\n",
    "\n",
    "year = int(input('Enter your years of service : '))\n",
    "\n",
    "if year>5:\n",
    "\n",
    "   print('Your Net bonus is',0.05*salary)"
   ]
  },
  {
   "cell_type": "markdown",
   "id": "8d19704f",
   "metadata": {},
   "source": [
    "# 3) Take input of age of 3 people by user and determine oldest and youngest among them.\n"
   ]
  },
  {
   "cell_type": "code",
   "execution_count": 8,
   "id": "c77c8701",
   "metadata": {},
   "outputs": [
    {
     "name": "stdout",
     "output_type": "stream",
     "text": [
      "Enter age of person 1 : 30\n",
      "Enter age of person 2 : 28\n",
      "Enter age of person 3 : 18\n",
      "Person 1 is oldest\n",
      "Person 3 is youngest\n"
     ]
    }
   ],
   "source": [
    "person1 = int(input('Enter age of person 1 : '))\n",
    "person2 = int(input('Enter age of person 2 : '))\n",
    "person3 = int(input('Enter age of person 3 : '))\n",
    "\n",
    "if person1 > person2 and person1 > person3:\n",
    "    print('Person 1 is oldest')\n",
    "elif person2 > person1 and person2 > person3:\n",
    "    print('Person 2 is oldest')\n",
    "elif person3 > person1 and person3 > person2:\n",
    "    print('Person 3 is oldest')\n",
    "\n",
    "if person1 < person2 and person1 < person3:\n",
    "    print('Person 1 is youngest')\n",
    "elif person2 < person1 and person2 < person3:\n",
    "    print('Person 2 is youngest')\n",
    "elif person3 < person1 and person3 < person2:\n",
    "    print('Person 3 is youngest')"
   ]
  },
  {
   "cell_type": "markdown",
   "id": "090fc759",
   "metadata": {},
   "source": [
    "# 4) A school has following rules for grading system\n",
    "a. Below 25 - F\n",
    "\n",
    "b. 25 to 45 - E\n",
    "\n",
    "c. 45 to 50 - D\n",
    "\n",
    "d. 50 to 60 - C\n",
    "\n",
    "e. 60 to 80 - B\n",
    "\n",
    "f. Above 80 - A\n"
   ]
  },
  {
   "cell_type": "markdown",
   "id": "3bdfee7d",
   "metadata": {},
   "source": [
    "# 5) Ask user to enter marks and print the corresponding grade.\n"
   ]
  },
  {
   "cell_type": "code",
   "execution_count": 10,
   "id": "4ad19d54",
   "metadata": {},
   "outputs": [
    {
     "name": "stdout",
     "output_type": "stream",
     "text": [
      "Enter your score: 85\n",
      "A\n"
     ]
    }
   ],
   "source": [
    "score = int(input('Enter your score: '))\n",
    "if score < 25:  \n",
    "\n",
    "   print('F')\n",
    "\n",
    "elif score >= 25 and score < 45:  \n",
    "\n",
    "   print('E')\n",
    "\n",
    "elif score >= 45 and score < 50:  \n",
    "\n",
    "   print('D')\n",
    "\n",
    "elif score >= 50 and score < 60:  \n",
    "\n",
    "   print('C')\n",
    "\n",
    "elif score >= 60 and score < 80:  \n",
    "\n",
    "   print('B')\n",
    "\n",
    "else:  \n",
    "\n",
    "   print('A')"
   ]
  },
  {
   "cell_type": "markdown",
   "id": "b2b70a9c",
   "metadata": {},
   "source": [
    "# 6) Write a Python script to merge two Python dictionaries"
   ]
  },
  {
   "cell_type": "code",
   "execution_count": 11,
   "id": "c2176460",
   "metadata": {},
   "outputs": [
    {
     "name": "stdout",
     "output_type": "stream",
     "text": [
      "{'Father': 60, 'Mother': 55, 'Daughter': 29, 'Son': 30, 'Uncle': 44, 'Anty': 41, 'Cousin': 21}\n"
     ]
    }
   ],
   "source": [
    "dict1 = {'Father':60, 'Mother':55, 'Daughter':29, 'Son':30}\n",
    "\n",
    "dict2 = {'Uncle':44, 'Anty':41, 'Cousin': 21}\n",
    "\n",
    "dictionary = dict1.copy()\n",
    "\n",
    "dictionary.update(dict2)\n",
    "\n",
    "print(dictionary)"
   ]
  },
  {
   "cell_type": "markdown",
   "id": "96595381",
   "metadata": {},
   "source": [
    "# 7) Write a python program to get the largest number from a list \n"
   ]
  },
  {
   "cell_type": "code",
   "execution_count": 12,
   "id": "d31690b4",
   "metadata": {},
   "outputs": [
    {
     "name": "stdout",
     "output_type": "stream",
     "text": [
      "Largest grade is: 90\n"
     ]
    }
   ],
   "source": [
    "grades = [54,10,12,90,25,43,70]\n",
    "\n",
    "print('Largest grade is:', max(grades))"
   ]
  },
  {
   "cell_type": "markdown",
   "id": "61415c6c",
   "metadata": {},
   "source": [
    "# 8) Write a python program to remove a key from a dictionary"
   ]
  },
  {
   "cell_type": "code",
   "execution_count": 13,
   "id": "94033b7b",
   "metadata": {},
   "outputs": [
    {
     "name": "stdout",
     "output_type": "stream",
     "text": [
      "Dictionary with complete keys:  {'Father': 60, 'Mother': 55, 'Daughter': 29, 'Son': 30, 'Uncle': 44, 'Anty': 41, 'Cousin': 21}\n",
      "Dictionary after removing one key:  {'Father': 60, 'Mother': 55, 'Daughter': 29, 'Son': 30, 'Anty': 41, 'Cousin': 21}\n"
     ]
    }
   ],
   "source": [
    "family = {'Father': 60, 'Mother': 55, 'Daughter': 29, 'Son': 30, 'Uncle': 44, 'Anty': 41, 'Cousin': 21}\n",
    "print('Dictionary with complete keys: ', family)\n",
    "\n",
    "del family ['Uncle']\n",
    "print('Dictionary after removing one key: ', family)"
   ]
  },
  {
   "cell_type": "code",
   "execution_count": null,
   "id": "c4a982ca",
   "metadata": {},
   "outputs": [],
   "source": []
  }
 ],
 "metadata": {
  "kernelspec": {
   "display_name": "Python 3 (ipykernel)",
   "language": "python",
   "name": "python3"
  },
  "language_info": {
   "codemirror_mode": {
    "name": "ipython",
    "version": 3
   },
   "file_extension": ".py",
   "mimetype": "text/x-python",
   "name": "python",
   "nbconvert_exporter": "python",
   "pygments_lexer": "ipython3",
   "version": "3.9.12"
  }
 },
 "nbformat": 4,
 "nbformat_minor": 5
}
